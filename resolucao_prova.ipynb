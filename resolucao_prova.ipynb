{
 "cells": [
  {
   "cell_type": "markdown",
   "metadata": {},
   "source": [
    "<img src=\"https://www.ergoncredit.com.br/imagens/logo-ergoncredit.svg\" align=\"left\"> \n",
    "\n",
    "<br>\n",
    "<h1>Resolução da Prova Técnica da ErgonCredit</h1>\n",
    "\n",
    "\n",
    "Este projeto foi criado por <b>Grazielle Alessa</b> para o Processo Seletivo da ErgonCredit.\n"
   ]
  },
  {
   "cell_type": "markdown",
   "metadata": {},
   "source": [
    "<h4>1.Implemente, na sua linguagem de preferência, os seguintes problemas. Para todos os algoritmos abaixo implemente a versão recursiva e a versão iterativa do mesmo.</h4>\n",
    "\n",
    "<ol>\n",
    "<li>Achar o número de Fibbonacci.<br>\n",
    "<li>Definir se um número é ou não primo.<br>\n",
    "<li>Definir por quais números M um número N é divisível (sendo que N > M).<br>\n",
    "<li>Um exemplo de polimorfismo (usando uma linguagem orientada a objeto).<br>\n",
    "</ol>"
   ]
  },
  {
   "cell_type": "code",
   "execution_count": 26,
   "metadata": {},
   "outputs": [
    {
     "data": {
      "text/plain": [
       "[1, 1, 2, 3, 5, 8, 13, 21, 34, 55]"
      ]
     },
     "execution_count": 26,
     "metadata": {},
     "output_type": "execute_result"
    }
   ],
   "source": [
    "#Número Fibbonacci Iterativo\n",
    "def fibbo(n):\n",
    "    a=0\n",
    "    b=1\n",
    "    i=1\n",
    "    seq = [1]\n",
    "    for i in range(n-1):\n",
    "        aux = a\n",
    "        a = b\n",
    "        b = a + aux\n",
    "        seq.append(b)\n",
    "    return seq\n",
    "\n",
    "fibbo(10)"
   ]
  },
  {
   "cell_type": "code",
   "execution_count": 36,
   "metadata": {},
   "outputs": [
    {
     "name": "stdout",
     "output_type": "stream",
     "text": [
      "[0, 1, 1, 2, 3, 5, 8, 13, 21, 34]\n"
     ]
    }
   ],
   "source": [
    "#Numero Fibbonacci Recursivo\n",
    "\n",
    "def fibo_rec(n):\n",
    "    if n < 2:\n",
    "        return 1\n",
    "    else:\n",
    "        return(fibbo_rec(n-1) + fibbo_rec(n-2))\n",
    "\n",
    "def fibo2(n):\n",
    "    i = 1\n",
    "    seq =[]\n",
    "    for i in range(n):\n",
    "         seq.append(fibbo_rec(i))\n",
    "    return seq \n",
    "\n",
    "print(fibo2(10))"
   ]
  },
  {
   "cell_type": "code",
   "execution_count": null,
   "metadata": {},
   "outputs": [],
   "source": [
    "#Verificar se um número é primo iterativo"
   ]
  },
  {
   "cell_type": "code",
   "execution_count": 38,
   "metadata": {},
   "outputs": [
    {
     "name": "stdout",
     "output_type": "stream",
     "text": [
      "823\n"
     ]
    },
    {
     "data": {
      "text/plain": [
       "True"
      ]
     },
     "execution_count": 38,
     "metadata": {},
     "output_type": "execute_result"
    }
   ],
   "source": [
    "#Verificar se um número é primo recursivo\n",
    "\n",
    "def isPrime_rec(div,N):\n",
    "    if N <= 1:\n",
    "        return False\n",
    "    else:\n",
    "        if div >= N:\n",
    "            print(N)\n",
    "        else:\n",
    "            if N == div: \n",
    "                print(N)\n",
    "            elif (N % div) == 0:\n",
    "                return False\n",
    "            else:\n",
    "                return isPrime_rec(div+1,N)\n",
    "    return True\n",
    "\n",
    "isPrime_rec(2,823)"
   ]
  },
  {
   "cell_type": "code",
   "execution_count": null,
   "metadata": {},
   "outputs": [],
   "source": [
    "#Definir por quais números M um número N é divisível (sendo que N > M) - Iterativo"
   ]
  },
  {
   "cell_type": "code",
   "execution_count": null,
   "metadata": {},
   "outputs": [],
   "source": [
    "#Definir por quais números M um número N é divisível (sendo que N > M) - Recursivo"
   ]
  },
  {
   "cell_type": "code",
   "execution_count": null,
   "metadata": {},
   "outputs": [],
   "source": [
    "#Um exemplo de polimorfismo - Iterativo"
   ]
  },
  {
   "cell_type": "code",
   "execution_count": null,
   "metadata": {},
   "outputs": [],
   "source": [
    "#Um exemplo de polimorfismo - Recursivo"
   ]
  },
  {
   "cell_type": "markdown",
   "metadata": {},
   "source": [
    "<h4>2. Qual a diferença entre LIFO, FIFO, FILO?</h4>\n",
    "\n",
    "Em teoria de filas, a política LIFO(Last In First Out) diz que os usuários que chegam na fila devem ficar em fila de espera na ordem inversa da chegada. Ao término do uso do recurso pelo usuário, o último usuário da fila vai utilizar o recurso sem interrupção. A política FIFO (First In First Out) utiliza a ordem de chegada na fila como critério de uso do recurso. A política FILO (First In Last Out) diz que último usuário é o que tem prioridade do uso, onde os últimos da fila serão os primeiros a ser atendidos, como numa pilha.\n"
   ]
  },
  {
   "cell_type": "markdown",
   "metadata": {},
   "source": [
    "<h4>3. Ao passar parâmetros para uma função, podemos passar por valor ou por referência.\n",
    "Qual a diferença entre os 2 métodos?</h4>\n",
    "\n",
    "Na passagem por valor, é passada uma cópia local do valor da variável onde modificações não alteram o valor da real variável fora da função. Na passagem por referência, envia-se uma referência (o endereço de memória, ou ponteiro) da  variável, e quaisquer modificações de seu valor também afetam a variável no escopo de fora."
   ]
  },
  {
   "cell_type": "markdown",
   "metadata": {},
   "source": [
    "<h4>4. Qual a ordem de complexidade do algoritmo de multiplicação de matrizes abaixo?</h4>\n",
    "\n",
    ">for (int i = 0; i < N; i++)\n",
    ">> for (int j = 0; j < N; j++)\n",
    ">>> for (int k = 0; k < N; k++)\n",
    ">>>> C[i][j] += A[i][k] * B[k][j];\n",
    "\n",
    "O(N³)"
   ]
  },
  {
   "cell_type": "markdown",
   "metadata": {},
   "source": [
    "<h4>5. Considerando o algoritmo acima, você consegue pensar em uma forma de deixar esse\n",
    "algoritmo com uma complexidade menor?</h4>\n",
    "\n",
    "O algoritmo de Coppersmith-Winograd, bem conhecido na área de álgebra linear, faz em tempo menor. Aproximadamenteo O(n^2.3). Caso as matrizes não fossem todas NxN, a complexidade poderia ser medida por O(NMP) , onde haveria uma matrix NxM e uma MxP.\n",
    "\n",
    "\n",
    "\n"
   ]
  },
  {
   "cell_type": "markdown",
   "metadata": {},
   "source": [
    "<h4>6. Qual a diferença entre problemas NP-Completos e NP-Incompletos? Você consegue\n",
    "pensar em exemplos de cada um?</h4>\n",
    "\n",
    "NP-Completo são problemas que caso um destes problemas seja resolvido, todos os outros problemas NP-completos teriam uma solução em tempo polinomial. A classe NP-incompleto é apenas os problemas que podem ter soluções verificadas em tempo polinomial. Um exemplo de problema NP-completo é o problema de verificar se há um ciclo hamiltoniano num grafo e de problema NP-incompleto, temos a verificação em tempo polinomial se uma lista de vértices dada é um ciclo do grafo e tem comprimento maior que k(Problema do Ciclo Longo)."
   ]
  },
  {
   "cell_type": "markdown",
   "metadata": {},
   "source": [
    "<h4>7. Considerando a notação O para complexidade de algoritmos, preencha o quadro\n",
    "abaixo:</h4>\n",
    "\n",
    "\n",
    "<table class=\"tg\">\n",
    "  <tr>\n",
    "    <th class=\"tg-pu0z\">Complexidade para o caso médio</th>\n",
    "    <th class=\"tg-pu0z\">Array</th>\n",
    "    <th class=\"tg-pu0z\">Lista encadeada</th>\n",
    "    <th class=\"tg-pu0z\">Árvore Binária</th>\n",
    "    <th class=\"tg-pu0z\">Hash Table</th>\n",
    "  </tr>\n",
    "  <tr>\n",
    "    <td class=\"tg-6e8n\">Inserir um novo item</td>\n",
    "    <td class=\"tg-0pky\">O(n)</td>\n",
    "    <td class=\"tg-0pky\">O(log n)</td>\n",
    "    <td class=\"tg-0pky\">O(log n)</td>\n",
    "    <td class=\"tg-0pky\">O(1)</td>\n",
    "  </tr>\n",
    "  <tr>\n",
    "    <td class=\"tg-6e8n\">Ordenação</td>\n",
    "    <td class=\"tg-0pky\">O(n)</td>\n",
    "    <td class=\"tg-0pky\">O(n*log(n))</td>\n",
    "    <td class=\"tg-0pky\">O(n*log(n))</td>\n",
    "    <td class=\"tg-0pky\">O(1)</td>\n",
    "  </tr>\n",
    "  <tr>\n",
    "    <td class=\"tg-6e8n\">Busca</td>\n",
    "    <td class=\"tg-0pky\">O(log n)</td>\n",
    "    <td class=\"tg-0pky\">O(log n)</td>\n",
    "    <td class=\"tg-0pky\">O(log n)</td>\n",
    "    <td class=\"tg-0pky\">O(1)</td>\n",
    "  </tr>\n",
    "</table>\n"
   ]
  },
  {
   "cell_type": "markdown",
   "metadata": {},
   "source": [
    "<h4>9. Escreva o XPATH para pegar o títulos de todos os livros do XML abaixo:</h4>\n",
    "\n",
    "<img src=\"https://i.imgur.com/6mCUbRA.png\" align=\"left\">"
   ]
  },
  {
   "cell_type": "markdown",
   "metadata": {},
   "source": [
    "<h4>10. Descreva de maneira resumida, porém com o máximo de detalhes possível, a\n",
    "comunicação entre um browser (IE, Chrome) e o Google. Preferencialmente mostrando\n",
    "como são as mensagens trocadas entre eles. Quais protocolos, padrões etc... são\n",
    "utilizados?</h4>\n",
    "    \n",
    "O cliente faz um request para o browser HTTP para o browser, o browser formata a requisição e devolve com um HTTP response, onde, caso encontre a página, insere na mensagem HTTP o html da mesma. Caso contrário, responde com um dos códigos HTTP que representam problemas de cliente ou servidor e tem significados conhecidos a partir de seus números."
   ]
  },
  {
   "cell_type": "markdown",
   "metadata": {},
   "source": [
    "<h4>11. Para que serve um servidor DNS?</h4>\n",
    "\n",
    "Servidores de Domain Name System servem para conversão de números de IP para nomes de websites ou o oposto. Caso não existisse, o acesso a um site deveria ser feito diretamente pelo número de IP, onde seria necessário decorar os números identificadores de cada site que  deseja se obter acesso"
   ]
  },
  {
   "cell_type": "markdown",
   "metadata": {},
   "source": [
    "<h4>12. Qual a diferença entre os protocolos TCP e UDP?</h4>\n",
    "\n",
    "O Transmission Control Protocol e o User Datragram Protocol são protocolos de transporte. O objetivo de ambos é o envio de informações, a forma é onde se diferenciam. O TCP provê confiabilidade, entrega os pacotes na ordem do envio e possui verificação de perda de pacotes. Estas características o tornam mais demorado que o UDP, onde só é feito o envio da mensagem sem qualquer garantia. Além disso, o TCP é orientado a conexão, onde há três etapas de comunicação entre o transmissor e o receptor antes do envio das mensagens, o que não ocorre no UDP - Uma vez feita a conexão, o envio da mensagem é imediato."
   ]
  },
  {
   "cell_type": "markdown",
   "metadata": {},
   "source": [
    "\n",
    "<h4>13. Descreva a diferença entre criptografia simétrica e assimétrica e exemplos de uso de\n",
    "cada uma.</h4>\n",
    "\n",
    "<b>Criptografia simétrica</b>, ou de chave pública, é uma cifra que utiliza uma chave em comum que tanto o remetente quanto o destinatário devem possuir para decifrar a mensagem. É mais simples, mais fácil de implementar, porém é suscetível a mais tipos de ataques, pois a chave eventualmente deverá ser passada por um meio de transmissão sem criptografia. É utilizada em algumas aplicações que não possuem muito poder processamento ou precisam de troca de informações rápida. Um exemplo deste tipo de criptografia é o Triple-DES.\n",
    "\n",
    "<b>Criptografia assimétrica</b> possui dois segredos: A chave privada e a chave pública. Ela é menos suscetível a ataques, pois torna-se desnecessário o destinatário possuir a chave privada do remetente. Essa criptografia funciona cifrando a mensagem com a chave pública do destinatário, conhecida por todos, e decifrada com a chave privada do próprio destinatário, onde só ele a possui. Dessa forma, este tipo de criptografia, se torna útil onde não se pode garantir a segurança do meio de transmissão da mensagem. Um exemplo deste tipo de criptografia é o RSA."
   ]
  },
  {
   "cell_type": "markdown",
   "metadata": {},
   "source": [
    "<h4>14. Faça um desenho esquemático de um índice invertido dos seguintes documentos:</h4>\n",
    "Documento 1: Ouviram do Ipiranga as margens plácidas <br>\n",
    "Documento 2: Salve lindo pendão da esperança! <br>\n",
    "Documento 3: Já podeis da Pátria filhos <br>\n",
    "\n"
   ]
  },
  {
   "cell_type": "markdown",
   "metadata": {},
   "source": [
    "<h4>15. Qual estrutura de dados você usaria para implementar e porque?</h4>\n",
    "<ul>\n",
    "<li>Um feed de noticias - Um array de struct, pois facilitaria ordenação. \n",
    "<li>Uma rede social (tipo o facebook) - Um grafo não-direcionado representaria bem a situação, pois as relações de amizade tem duas vias (como no Facebook).\n",
    "<li>Um dicionário - Hashtable, pois essa estrutura permite uma busca mais fácil por relacionar um token (neste caso, palavra) com um valor (significado).\n",
    "<li>Um analisador léxico - Um parser para gerar uma árvore de sintaxe. \n",
    "</ul>"
   ]
  },
  {
   "cell_type": "markdown",
   "metadata": {},
   "source": [
    "<h4>16. Qual a diferença entre os paradigmas Statefull e Stateless?</h4>\n",
    "\n",
    "<i>Statefull</i> armazena o estado dos objetos, salvando o estado geral. Já o paradigma <i>Stateless</i> não necessita do estado, enxerga cara requisição como nova.\n"
   ]
  },
  {
   "cell_type": "markdown",
   "metadata": {},
   "source": [
    "<h4>17. Quais as diferenças (em performance, uso de memória/cpu, eficiência computacional)\n",
    "entre algoritmos recursivos e iterativos?</h4>\n",
    "\n",
    "A recursividade sempre contribui para um gasto maior de tempo, pois empilha e desempilha mais vezes que algoritmos iterativos. O que o torna uma pior opção em performance e uso de memória/cpu. Porém, algumas soluções só podem ser feitas de maneira recursiva, pois precisam guardar os estados anteriores.\n"
   ]
  },
  {
   "cell_type": "markdown",
   "metadata": {},
   "source": [
    "<h4>18. Descreva o algoritmo mais complexo que você precisou mexer (seja programar do\n",
    "zero, ou dar manutenção). O que o algoritmo fazia, por que ele era complexo e qual era\n",
    "mais o menos o pseudo-código dele.</h4>\n",
    "\n",
    "Foi para fazer uma consulta baseada em geolocalidade utilizando Django. A biblioteca que facilitava o uso das coordenadas não me trazia o formato aceitado pela query de BD para fazer a consulta sem transformá-la em String. Para evitar diversas conversões, foi preciso sobrescrever a biblioteca manualmente para forçar o formato que eu precisava. "
   ]
  },
  {
   "cell_type": "markdown",
   "metadata": {},
   "source": [
    "<h4>19. Quais são as formas tradicionais de fazer sincronização entre processos? E entre\n",
    "threads?</h4>\n",
    "\n",
    "A sincronização de processos mais usada é a exclusão mútua, para Threads utiliza-se também semáforos, monitores e trancas. "
   ]
  }
 ],
 "metadata": {
  "kernelspec": {
   "display_name": "Python 3",
   "language": "python",
   "name": "python3"
  },
  "language_info": {
   "codemirror_mode": {
    "name": "ipython",
    "version": 3
   },
   "file_extension": ".py",
   "mimetype": "text/x-python",
   "name": "python",
   "nbconvert_exporter": "python",
   "pygments_lexer": "ipython3",
   "version": "3.7.1"
  }
 },
 "nbformat": 4,
 "nbformat_minor": 2
}
