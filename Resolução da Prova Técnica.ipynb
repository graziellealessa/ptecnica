{
 "cells": [
  {
   "cell_type": "markdown",
   "metadata": {},
   "source": [
    "<img src=https://www.ergoncredit.com.br/imagens/logo-ergoncredit.svg align=\"left\"> \n",
    "\n",
    "<br>\n",
    "<h1>Resolução da Prova Técnica da ErgonCredit</h1>\n",
    "\n",
    "\n",
    "Este projeto foi criado por <b>Grazielle Alessa</b> para o Processo Seletivo da ErgonCredit.\n"
   ]
  },
  {
   "cell_type": "markdown",
   "metadata": {},
   "source": [
    "1.Implemente, na sua linguagem de preferência, os seguintes problemas. Para todos os algoritmos abaixo implemente a versão recursiva e a versão iterativa do mesmo.\n",
    "\n",
    "a. Achar o número de Fibbonacci.<br>\n",
    "b. Definir se um número é ou não primo.<br>\n",
    "c. Definir por quais números M um número N é divisível (sendo que N > M).<br>\n",
    "d. Um exemplo de polimorfismo (usando uma linguagem orientada a objeto).<br><br>"
   ]
  },
  {
   "cell_type": "code",
   "execution_count": 1,
   "metadata": {},
   "outputs": [
    {
     "name": "stdout",
     "output_type": "stream",
     "text": [
      "[1, 1, 2, 3, 5, 8, 13, 21, 34, 55, 89, 144, 233, 377]\n"
     ]
    }
   ],
   "source": [
    "def fibbo(lim):\n",
    "    i=0\n",
    "    num=1\n",
    "    seq = [num]\n",
    "    while num < lim:\n",
    "        aux = i\n",
    "        i = num\n",
    "        num = i + aux\n",
    "        seq.append(num)\n",
    "    print(seq)\n",
    "\n",
    "fibbo(300)"
   ]
  },
  {
   "cell_type": "code",
   "execution_count": null,
   "metadata": {},
   "outputs": [],
   "source": [
    "def fibbo_rec(n):\n",
    "    if n <= 1:\n",
    "        return n\n",
    "    else:\n",
    "        return (fibbo_rec(n-1) + fibbo_rec(n-2))\n",
    "\n",
    "for i in range(300):\n",
    "       print(recur_fibo(i))\n",
    "fibbo_rec(300)"
   ]
  },
  {
   "cell_type": "code",
   "execution_count": null,
   "metadata": {},
   "outputs": [],
   "source": []
  }
 ],
 "metadata": {
  "kernelspec": {
   "display_name": "Python 3",
   "language": "python",
   "name": "python3"
  },
  "language_info": {
   "codemirror_mode": {
    "name": "ipython",
    "version": 3
   },
   "file_extension": ".py",
   "mimetype": "text/x-python",
   "name": "python",
   "nbconvert_exporter": "python",
   "pygments_lexer": "ipython3",
   "version": "3.7.1"
  }
 },
 "nbformat": 4,
 "nbformat_minor": 2
}
